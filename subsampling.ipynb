{
 "cells": [
  {
   "cell_type": "code",
   "execution_count": 15,
   "metadata": {},
   "outputs": [
    {
     "data": {
      "text/html": [
       "<div>\n",
       "<style>\n",
       "    .dataframe thead tr:only-child th {\n",
       "        text-align: right;\n",
       "    }\n",
       "\n",
       "    .dataframe thead th {\n",
       "        text-align: left;\n",
       "    }\n",
       "\n",
       "    .dataframe tbody tr th {\n",
       "        vertical-align: top;\n",
       "    }\n",
       "</style>\n",
       "<table border=\"1\" class=\"dataframe\">\n",
       "  <thead>\n",
       "    <tr style=\"text-align: right;\">\n",
       "      <th></th>\n",
       "      <th>Compiled from boardgamegeek.com by Matt Borthwick</th>\n",
       "      <th>gameID</th>\n",
       "      <th>rating</th>\n",
       "      <th>comment</th>\n",
       "    </tr>\n",
       "  </thead>\n",
       "  <tbody>\n",
       "    <tr>\n",
       "      <th>0</th>\n",
       "      <td>25308</td>\n",
       "      <td>37111</td>\n",
       "      <td>8.5</td>\n",
       "      <td>++++ Thematic +++ Bluff - Many randomness   I ...</td>\n",
       "    </tr>\n",
       "    <tr>\n",
       "      <th>1</th>\n",
       "      <td>54313</td>\n",
       "      <td>12</td>\n",
       "      <td>8.0</td>\n",
       "      <td>\"well, that ugly artwork certainly helped imme...</td>\n",
       "    </tr>\n",
       "    <tr>\n",
       "      <th>2</th>\n",
       "      <td>38165</td>\n",
       "      <td>50</td>\n",
       "      <td>8.0</td>\n",
       "      <td>LOVE this game!  If only the GF would play it ...</td>\n",
       "    </tr>\n",
       "    <tr>\n",
       "      <th>3</th>\n",
       "      <td>56936</td>\n",
       "      <td>1198</td>\n",
       "      <td>5.0</td>\n",
       "      <td>SET is a good game, in small doses (in my case...</td>\n",
       "    </tr>\n",
       "    <tr>\n",
       "      <th>4</th>\n",
       "      <td>47675</td>\n",
       "      <td>164153</td>\n",
       "      <td>6.0</td>\n",
       "      <td>So much better than Descent. Better theme, imp...</td>\n",
       "    </tr>\n",
       "  </tbody>\n",
       "</table>\n",
       "</div>"
      ],
      "text/plain": [
       "   Compiled from boardgamegeek.com by Matt Borthwick  gameID  rating  \\\n",
       "0                                              25308   37111     8.5   \n",
       "1                                              54313      12     8.0   \n",
       "2                                              38165      50     8.0   \n",
       "3                                              56936    1198     5.0   \n",
       "4                                              47675  164153     6.0   \n",
       "\n",
       "                                             comment  \n",
       "0  ++++ Thematic +++ Bluff - Many randomness   I ...  \n",
       "1  \"well, that ugly artwork certainly helped imme...  \n",
       "2  LOVE this game!  If only the GF would play it ...  \n",
       "3  SET is a good game, in small doses (in my case...  \n",
       "4  So much better than Descent. Better theme, imp...  "
      ]
     },
     "execution_count": 15,
     "metadata": {},
     "output_type": "execute_result"
    }
   ],
   "source": [
    "import pandas as pd\n",
    "import numpy as np\n",
    "import matplotlib.pyplot as plt\n",
    "import seaborn as sns\n",
    "\n",
    "corpus = pd.read_csv('boardgame-comments-sample.csv')\n",
    "corpus.head()"
   ]
  },
  {
   "cell_type": "markdown",
   "metadata": {},
   "source": [
    "# Reviews are unbalanced with most reviews in the 6-9 range"
   ]
  },
  {
   "cell_type": "code",
   "execution_count": 16,
   "metadata": {},
   "outputs": [
    {
     "data": {
      "image/png": "[encoded data removed]",
      "text/plain": [
       "<matplotlib.figure.Figure at 0x1150b4128>"
      ]
     },
     "metadata": {},
     "output_type": "display_data"
    }
   ],
   "source": [
    "#plot histogram of ratings\n",
    "\n",
    "num_bins = 50\n",
    "n, bins, patches = plt.hist(corpus.rating, num_bins, facecolor='blue', alpha=0.5)\n",
    "\n",
    "plt.title('Histogram of Rating')\n",
    "plt.xlabel('Ratings')\n",
    "plt.ylabel('Count')\n",
    "plt.show()"
   ]
  },
  {
   "cell_type": "code",
   "execution_count": 18,
   "metadata": {},
   "outputs": [
    {
     "data": {
      "image/png": "[encoded data removed]",
      "text/plain": [
       "<matplotlib.figure.Figure at 0x115073eb8>"
      ]
     },
     "metadata": {},
     "output_type": "display_data"
    }
   ],
   "source": [
    "#convert to int values and plot histogram\n",
    "\n",
    "num_bins = 50\n",
    "n, bins, patches = plt.hist(corpus.rating.astype(int), num_bins, facecolor='blue', alpha=0.5)\n",
    "\n",
    "plt.title('Histogram of Integer Rating')\n",
    "plt.xlabel('Ratings')\n",
    "plt.ylabel('Count')\n",
    "plt.show()\n",
    "\n"
   ]
  },
  {
   "cell_type": "code",
   "execution_count": 23,
   "metadata": {},
   "outputs": [],
   "source": [
    "corpus = pd.read_csv('boardgame-comments-english.csv')\n",
    "corpus['rating_int'] = corpus.rating.astype(int)"
   ]
  },
  {
   "cell_type": "code",
   "execution_count": 34,
   "metadata": {},
   "outputs": [],
   "source": [
    "def sample(rating):\n",
    "    sample = corpus[corpus.rating_int== rating].sample(3000)\n",
    "    return sample"
   ]
  },
  {
   "cell_type": "code",
   "execution_count": 29,
   "metadata": {},
   "outputs": [],
   "source": [
    "#take 3000 reviews of each rating\n",
    "reviews_sampled = pd.concat([sample(1),sample(2),sample(3),sample(4),sample(5),sample(6),sample(7),sample(8),sample(9),sample(10)])"
   ]
  },
  {
   "cell_type": "markdown",
   "metadata": {},
   "source": [
    "## Create a sample set of reviews with 3000 reviews of each rating"
   ]
  },
  {
   "cell_type": "code",
   "execution_count": 31,
   "metadata": {},
   "outputs": [],
   "source": [
    "reviews_sampled.to_csv(\"reviews_sampled.csv\")"
   ]
  },
  {
   "cell_type": "code",
   "execution_count": 33,
   "metadata": {},
   "outputs": [
    {
     "data": {
      "image/png": "[encoded data removed]",
      "text/plain": [
       "<matplotlib.figure.Figure at 0x115274eb8>"
      ]
     },
     "metadata": {},
     "output_type": "display_data"
    }
   ],
   "source": [
    "num_bins = 50\n",
    "n, bins, patches = plt.hist(reviews_sampled.rating_int, num_bins, facecolor='blue', alpha=0.5)\n",
    "\n",
    "plt.title('Histogram of Sampled Review Ratings')\n",
    "plt.xlabel('Ratings')\n",
    "plt.ylabel('Count')\n",
    "plt.show()"
   ]
  },
  {
   "cell_type": "code",
   "execution_count": null,
   "metadata": {},
   "outputs": [],
   "source": []
  }
 ],
 "metadata": {
  "kernelspec": {
   "display_name": "Python 3",
   "language": "python",
   "name": "python3"
  },
  "language_info": {
   "codemirror_mode": {
    "name": "ipython",
    "version": 3
   },
   "file_extension": ".py",
   "mimetype": "text/x-python",
   "name": "python",
   "nbconvert_exporter": "python",
   "pygments_lexer": "ipython3",
   "version": "3.6.1"
  }
 },
 "nbformat": 4,
 "nbformat_minor": 2
}
